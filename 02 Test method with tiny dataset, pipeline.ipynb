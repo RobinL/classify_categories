{
 "cells": [
  {
   "cell_type": "code",
   "execution_count": null,
   "metadata": {},
   "outputs": [],
   "source": [
    "data = [\n",
    "(\"Great fun\", 1),\n",
    "(\"Great time\", 1),\n",
    "(\"Happy fun\", 1),\n",
    "(\"Brilliant time\", 1),\n",
    "(\"Brilliant fun\", 1),\n",
    "(\"Terrible time\", 0),\n",
    "(\"Bad times\", 0),\n",
    "(\"Great mistake\", 0),\n",
    "(\"Terrible mistake\", 0),\n",
    "(\"Bad experience\", 0)\n",
    "]\n",
    "\n",
    "data = [(d[0].lower(), d[1]) for d in data]"
   ]
  },
  {
   "cell_type": "code",
   "execution_count": null,
   "metadata": {},
   "outputs": [],
   "source": [
    "import pandas as pd \n",
    "import numpy as np\n",
    "import logging"
   ]
  },
  {
   "cell_type": "code",
   "execution_count": null,
   "metadata": {},
   "outputs": [],
   "source": [
    "df = pd.DataFrame(data)\n",
    "df.columns = [\"x\", \"y\"]\n",
    "x = df[\"x\"]\n",
    "y = df[\"y\"]"
   ]
  },
  {
   "cell_type": "code",
   "execution_count": null,
   "metadata": {},
   "outputs": [],
   "source": [
    "# Convert a collection or raw documents into a matrix of TD-IDF features\n",
    "from sklearn.feature_extraction.text import TfidfVectorizer\n",
    "\n",
    "# Vectorizer is an object that we can then pass data into and it will transform it appropriately\n",
    "vectorizer = TfidfVectorizer(sublinear_tf=True)"
   ]
  },
  {
   "cell_type": "code",
   "execution_count": null,
   "metadata": {},
   "outputs": [],
   "source": [
    "# The 'fit' part computes the term freq/inverse doc freq weightings\n",
    "# The 'transform' part then turns the X_train documents into vectors\n",
    "X_train_ft = vectorizer.fit_transform(x)"
   ]
  },
  {
   "cell_type": "code",
   "execution_count": null,
   "metadata": {},
   "outputs": [],
   "source": [
    "X_train_ft_d = X_train_ft.todense()\n",
    "df_tdif = pd.DataFrame(X_train_ft_d)\n",
    "df_tdif.columns = vectorizer.get_feature_names()\n",
    "df_tdif.head(2)"
   ]
  },
  {
   "cell_type": "code",
   "execution_count": null,
   "metadata": {},
   "outputs": [],
   "source": []
  },
  {
   "cell_type": "code",
   "execution_count": null,
   "metadata": {},
   "outputs": [],
   "source": [
    "# We've now turned our data from text into numbers so we can use it to fit models\n",
    "from sklearn.naive_bayes import MultinomialNB\n",
    "model = MultinomialNB().fit(X_train_ft, y)\n",
    "predicted = model.predict(X_train_ft)"
   ]
  },
  {
   "cell_type": "code",
   "execution_count": null,
   "metadata": {},
   "outputs": [],
   "source": [
    "from ipywidgets import interact, interactive, fixed, interact_manual\n",
    "\n",
    "def predict(text):\n",
    "    v = vectorizer.transform([text])\n",
    "    preds = model.predict_proba(v)\n",
    "    print(\"Probability negative: {}, Probability positive: {}\".format(preds[0][0], preds[0][1]))\n",
    "\n",
    "i = interact(predict, text = \"fun\")"
   ]
  },
  {
   "cell_type": "code",
   "execution_count": null,
   "metadata": {},
   "outputs": [],
   "source": [
    "# TODO:  Add code here where we distinguish between \n",
    "\n",
    "# TODO:  N grams \n",
    "\n",
    "# Want to try decision trees and maybe logit too?\n",
    "# Add code that uses a pipeline"
   ]
  },
  {
   "cell_type": "code",
   "execution_count": null,
   "metadata": {},
   "outputs": [],
   "source": [
    "# Can we get more information about the context \n",
    "# e.g. the word 'great' here is either in the context of 'great mistake' or 'great fun'"
   ]
  },
  {
   "cell_type": "code",
   "execution_count": null,
   "metadata": {},
   "outputs": [],
   "source": []
  }
 ],
 "metadata": {
  "kernelspec": {
   "display_name": "Python 3",
   "language": "python",
   "name": "python3"
  },
  "language_info": {
   "codemirror_mode": {
    "name": "ipython",
    "version": 3
   },
   "file_extension": ".py",
   "mimetype": "text/x-python",
   "name": "python",
   "nbconvert_exporter": "python",
   "pygments_lexer": "ipython3",
   "version": "3.6.1"
  }
 },
 "nbformat": 4,
 "nbformat_minor": 2
}
