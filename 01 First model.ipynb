{
 "cells": [
  {
   "cell_type": "markdown",
   "metadata": {},
   "source": [
    "Our training set wants to detect ecstasy pills vs. not pills.  \n",
    "Dropping a few records is not a massive problem"
   ]
  },
  {
   "cell_type": "code",
   "execution_count": null,
   "metadata": {},
   "outputs": [],
   "source": [
    "import pandas as pd \n",
    "import numpy as np\n",
    "import logging"
   ]
  },
  {
   "cell_type": "code",
   "execution_count": null,
   "metadata": {},
   "outputs": [],
   "source": [
    "# Display progress logs on stdout\n",
    "logging.basicConfig(level=logging.INFO,\n",
    "                    format='%(asctime)s %(levelname)s %(message)s')"
   ]
  },
  {
   "cell_type": "code",
   "execution_count": null,
   "metadata": {},
   "outputs": [],
   "source": [
    "df = pd.read_csv(\"data_for_model.csv\", low_memory=False)"
   ]
  },
  {
   "cell_type": "code",
   "execution_count": null,
   "metadata": {},
   "outputs": [],
   "source": [
    "# Binary classifier - need to detect\n",
    "df_dedup = df.drop_duplicates(\"category_concat_cat\")\n",
    "f1 = df_dedup[\"category_concat_cat\"].str.lower().str.contains(\"ecsta\")\n",
    "f2 = df_dedup[\"category_concat_cat\"].str.lower().str.contains(\"pill\")\n",
    "ccc = list(df_dedup[f1&f2][\"category_concat_cat\"])\n",
    "df.loc[df.category_concat_cat.isin(ccc), \"y\"] = 1\n",
    "df.loc[~(df.category_concat_cat.isin(ccc)), \"y\"] = 0\n",
    "\n",
    "df = df[pd.notnull(df[\"listing_text\"])]\n",
    "y = df[\"y\"]\n",
    "x = df[\"listing_text\"]\n",
    "# df.pivot_table(columns = \"y\", values=\"listing_text\", aggfunc=lambda x: len(x))\n"
   ]
  },
  {
   "cell_type": "code",
   "execution_count": null,
   "metadata": {},
   "outputs": [],
   "source": [
    "from sklearn.model_selection import train_test_split\n",
    "X_train, X_test, y_train, y_test = train_test_split(x, y, test_size=0.25)"
   ]
  },
  {
   "cell_type": "markdown",
   "metadata": {},
   "source": [
    "Learn vocabulary and idf, return term-document matrix.\n",
    "\n",
    "- The 'fit' part computes the term freq/inverse doc freq weightings\n",
    "- The 'transform' part then turns the X_train documents into vectors\n",
    "\n",
    "The resultant table looks like this (but is stored as a sparse array)\n",
    "\n",
    "| index | term1 | term2 | etc |\n",
    "|-------|-------|-------|-----|\n",
    "| 0     | 0.000 | 0.707 |     |\n",
    "| 1     | 0.212 | 0.621 |     |\n",
    "| 2     | 0.457 | 0.000 |     |\n",
    "| etc   |       |       |     |"
   ]
  },
  {
   "cell_type": "code",
   "execution_count": null,
   "metadata": {},
   "outputs": [],
   "source": [
    "# Convert a collection or raw documents into a matrix of TD-IDF features\n",
    "from sklearn.feature_extraction.text import TfidfVectorizer\n",
    "\n",
    "# Vectorizer is an object that we can then pass data into and it will transform it appropriately\n",
    "vectorizer = TfidfVectorizer(sublinear_tf=True, max_df=0.5,\n",
    "                                 stop_words='english')\n",
    "X_train_v = vectorizer.fit_transform(X_train)\n",
    "\n",
    "# Now we've fitted using the training data, we can use the same tdf/idf weightings on the test set\n",
    "X_test_v = vectorizer.transform(X_test)"
   ]
  },
  {
   "cell_type": "code",
   "execution_count": null,
   "metadata": {},
   "outputs": [],
   "source": [
    "from sklearn.feature_selection import SelectKBest, chi2\n",
    "feature_names = vectorizer.get_feature_names()\n",
    "ch2 = SelectKBest(chi2, k=300)\n",
    "X_train = ch2.fit_transform(X_train_v, y_train)\n",
    "feature_names = [feature_names[i] for i in ch2.get_support(indices=True)]"
   ]
  },
  {
   "cell_type": "code",
   "execution_count": null,
   "metadata": {},
   "outputs": [],
   "source": []
  },
  {
   "cell_type": "code",
   "execution_count": null,
   "metadata": {},
   "outputs": [],
   "source": []
  }
 ],
 "metadata": {
  "kernelspec": {
   "display_name": "Python 3",
   "language": "python",
   "name": "python3"
  },
  "language_info": {
   "codemirror_mode": {
    "name": "ipython",
    "version": 3
   },
   "file_extension": ".py",
   "mimetype": "text/x-python",
   "name": "python",
   "nbconvert_exporter": "python",
   "pygments_lexer": "ipython3",
   "version": "3.6.1"
  }
 },
 "nbformat": 4,
 "nbformat_minor": 2
}
