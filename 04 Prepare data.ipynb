{
 "cells": [
  {
   "cell_type": "markdown",
   "metadata": {},
   "source": [
    "###  Observations\n",
    "\n",
    "Make sure we tidy up unicode \n",
    "\n",
    "X T C -> XTC\n",
    "\n",
    "Make sure we're not deleting the 'x' from things like 10x\n",
    "\n",
    "Remove brackets, commas, exclamation marksbut not currency symbols\n",
    "\n",
    "Replace \"/\" with \" \"\n",
    "\n",
    "\n",
    "Replace number mg and number g with space\n",
    "Replace numberxnumber with number x number\n",
    "\n",
    "https://stackoverflow.com/questions/33404752/removing-emojis-from-a-string-in-python\n"
   ]
  },
  {
   "cell_type": "code",
   "execution_count": null,
   "metadata": {},
   "outputs": [],
   "source": [
    "from getdata import x_train, x_test, y_train, y_test, x_train_all, x_test_all"
   ]
  },
  {
   "cell_type": "code",
   "execution_count": null,
   "metadata": {},
   "outputs": [],
   "source": [
    "import pandas as pd"
   ]
  },
  {
   "cell_type": "code",
   "execution_count": null,
   "metadata": {},
   "outputs": [],
   "source": [
    "# Check how it's dealing with special characters by default\n",
    "x_train = x_train[:50]"
   ]
  },
  {
   "cell_type": "code",
   "execution_count": null,
   "metadata": {},
   "outputs": [],
   "source": [
    "# Convert a collection or raw documents into a matrix of TD-IDF features\n",
    "from sklearn.feature_extraction.text import TfidfVectorizer, CountVectorizer\n",
    "\n",
    "\n",
    "# Vectorizer is an object that we can then pass data into and it will transform it appropriately\n"
   ]
  },
  {
   "cell_type": "code",
   "execution_count": null,
   "metadata": {},
   "outputs": [],
   "source": [
    "from sklearn.base import TransformerMixin\n",
    "from sklearn.pipeline import Pipeline, FeatureUnion\n",
    "\n",
    "class KVExtractor(TransformerMixin):\n",
    "    def __init__(self, kvpairs):\n",
    "        self.kpairs = kvpairs\n",
    "        \n",
    "    def transform(self, X, *_):\n",
    "        result = []\n",
    "        for index, rowdata in X.iterrows():\n",
    "            rowdict = {}\n",
    "            for kvp in self.kpairs:\n",
    "                rowdict.update( { rowdata[ kvp[0] ]: rowdata[ kvp[1] ] } )\n",
    "            result.append(rowdict)\n",
    "        return result\n",
    "    \n",
    "    def fit(self, *_):\n",
    "        return self"
   ]
  },
  {
   "cell_type": "code",
   "execution_count": null,
   "metadata": {},
   "outputs": [],
   "source": [
    "vectorizer = CountVectorizer(token_pattern=\"[^ \\(\\)\\[\\]\\!\\+\\*\\/\\-]+\")\n",
    "m = vectorizer.fit_transform(x_train).todense()\n",
    "df_tdif = pd.DataFrame(m)\n",
    "df_tdif.columns = vectorizer.get_feature_names()\n",
    "\n",
    "print(\", \".join(vectorizer.get_feature_names()))\n",
    "df_tdif.head(2)"
   ]
  },
  {
   "cell_type": "code",
   "execution_count": null,
   "metadata": {},
   "outputs": [],
   "source": [
    "vectorizer = CountVectorizer(strip_accents=False)\n",
    "m = vectorizer.fit_transform(x_train).todense()\n",
    "df_tdif = pd.DataFrame(m)\n",
    "df_tdif.columns = vectorizer.get_feature_names()\n",
    "\n",
    "print(\", \".join(vectorizer.get_feature_names()))\n",
    "df_tdif.head(2)"
   ]
  },
  {
   "cell_type": "code",
   "execution_count": null,
   "metadata": {},
   "outputs": [],
   "source": [
    "x_train"
   ]
  },
  {
   "cell_type": "code",
   "execution_count": null,
   "metadata": {},
   "outputs": [],
   "source": []
  },
  {
   "cell_type": "code",
   "execution_count": null,
   "metadata": {},
   "outputs": [],
   "source": []
  }
 ],
 "metadata": {
  "kernelspec": {
   "display_name": "Python 3",
   "language": "python",
   "name": "python3"
  },
  "language_info": {
   "codemirror_mode": {
    "name": "ipython",
    "version": 3
   },
   "file_extension": ".py",
   "mimetype": "text/x-python",
   "name": "python",
   "nbconvert_exporter": "python",
   "pygments_lexer": "ipython3",
   "version": "3.6.1"
  }
 },
 "nbformat": 4,
 "nbformat_minor": 2
}
