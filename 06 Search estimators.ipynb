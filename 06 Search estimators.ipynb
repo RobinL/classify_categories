{
 "cells": [
  {
   "cell_type": "code",
   "execution_count": null,
   "metadata": {},
   "outputs": [],
   "source": [
    "from getdata import x_train, x_test, y_train, y_test "
   ]
  },
  {
   "cell_type": "code",
   "execution_count": null,
   "metadata": {},
   "outputs": [],
   "source": [
    "1+1"
   ]
  },
  {
   "cell_type": "code",
   "execution_count": null,
   "metadata": {},
   "outputs": [],
   "source": [
    "import pandas as pd\n",
    "import numpy as np"
   ]
  },
  {
   "cell_type": "code",
   "execution_count": null,
   "metadata": {},
   "outputs": [],
   "source": [
    "from sklearn.pipeline import Pipeline\n",
    "from sklearn.model_selection import GridSearchCV\n",
    "from sklearn.feature_extraction.text import CountVectorizer\n",
    "from sklearn.feature_extraction.text import TfidfTransformer\n",
    "from tidy_data import TidySymbols"
   ]
  },
  {
   "cell_type": "code",
   "execution_count": null,
   "metadata": {},
   "outputs": [],
   "source": [
    "from sklearn.svm import LinearSVC\n",
    "from sklearn.svm import SVC\n",
    "from sklearn.linear_model import LogisticRegression\n",
    "from sklearn.ensemble import RandomForestClassifier\n",
    "from sklearn.naive_bayes import MultinomialNB"
   ]
  },
  {
   "cell_type": "code",
   "execution_count": null,
   "metadata": {},
   "outputs": [],
   "source": [
    "# Need to add a dimensionality reduction step here - ask Andy?\n",
    "\n",
    "# http://mccormickml.com/2016/03/25/lsa-for-text-classification-tutorial/ Some indication LSA may be sensible, or word2vec\n",
    "# Try both and see what happens to actual results.\n",
    "\n",
    "# Code is here\n",
    "# https://github.com/chrisjmccormick/LSA_Classification/blob/master/runClassification_LSA.py#L79"
   ]
  },
  {
   "cell_type": "code",
   "execution_count": null,
   "metadata": {},
   "outputs": [],
   "source": [
    "# Test several different models with default\n",
    "clf = Pipeline([\n",
    "    ('tidy', TidySymbols()),\n",
    "    ('vect', CountVectorizer()),\n",
    "    ('tfidf', TfidfTransformer()),\n",
    "    ('clf', MultinomialNB())\n",
    "])\n",
    "\n",
    "# param_grid = {\n",
    "#     'clf': [MultinomialNB(), LogisticRegression()] ,\n",
    "#     'clf__c': [1e-1,1,1e1,1e2]\n",
    "# }\n",
    "\n",
    "param_grid = [\n",
    "    {\"clf\": [MultinomialNB()],\n",
    "     'vect__ngram_range': [(1,1), (1,2)]\n",
    "    },\n",
    "    {\"clf\": [LogisticRegression()],\n",
    "     'vect__ngram_range': [(1,1), (1,2)]\n",
    "    },\n",
    "    {\"clf\": [RandomForestClassifier()],\n",
    "     'vect__ngram_range': [(1,1), (1,2)]\n",
    "    },\n",
    "    {\"clf\": [LinearSVC()],\n",
    "     'vect__ngram_range': [(1,1), (1,2)]\n",
    "    },\n",
    "    {\"clf\": [SVC()],\n",
    "     'vect__ngram_range': [(1,1), (1,2)]\n",
    "    }\n",
    "    \n",
    "]"
   ]
  },
  {
   "cell_type": "code",
   "execution_count": null,
   "metadata": {},
   "outputs": [],
   "source": [
    "gs_clf = GridSearchCV(clf, param_grid, n_jobs=3)\n",
    "gs_clf = gs_clf.fit(x_train, y_train)"
   ]
  },
  {
   "cell_type": "code",
   "execution_count": null,
   "metadata": {},
   "outputs": [],
   "source": [
    "pd.DataFrame(gs_clf.cv_results_)"
   ]
  },
  {
   "cell_type": "code",
   "execution_count": null,
   "metadata": {},
   "outputs": [],
   "source": [
    "import pprint as pp\n",
    "pp.pprint(gs_clf.best_params_)"
   ]
  },
  {
   "cell_type": "code",
   "execution_count": null,
   "metadata": {},
   "outputs": [],
   "source": [
    "\n",
    "{'clf': LinearSVC(C=1.0, class_weight=None, dual=True, fit_intercept=True,\n",
    "     intercept_scaling=1, loss='squared_hinge', max_iter=1000,\n",
    "     multi_class='ovr', penalty='l2', random_state=None, tol=0.0001,\n",
    "     verbose=0),\n",
    " 'vect__ngram_range': (1, 2)}"
   ]
  }
 ],
 "metadata": {
  "kernelspec": {
   "display_name": "Python 3",
   "language": "python",
   "name": "python3"
  },
  "language_info": {
   "codemirror_mode": {
    "name": "ipython",
    "version": 3
   },
   "file_extension": ".py",
   "mimetype": "text/x-python",
   "name": "python",
   "nbconvert_exporter": "python",
   "pygments_lexer": "ipython3",
   "version": "3.6.1"
  }
 },
 "nbformat": 4,
 "nbformat_minor": 2
}
