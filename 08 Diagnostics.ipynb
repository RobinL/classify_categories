{
 "cells": [
  {
   "cell_type": "code",
   "execution_count": null,
   "metadata": {},
   "outputs": [],
   "source": [
    "from getdata import x_train, x_test, y_train, y_test, x_train_all, x_test_all"
   ]
  },
  {
   "cell_type": "code",
   "execution_count": null,
   "metadata": {},
   "outputs": [],
   "source": [
    "from sklearn.pipeline import Pipeline\n",
    "from sklearn.model_selection import GridSearchCV\n",
    "from sklearn.feature_extraction.text import CountVectorizer\n",
    "from sklearn.feature_extraction.text import TfidfTransformer\n",
    "from tidy_data import TidySymbols\n",
    "from sklearn.calibration import CalibratedClassifierCV"
   ]
  },
  {
   "cell_type": "code",
   "execution_count": null,
   "metadata": {},
   "outputs": [],
   "source": [
    "# Previous step suggested most models were comparible but linear SVC \n",
    "from sklearn.svm import LinearSVC\n",
    "from sklearn.svm import SVC\n",
    "from sklearn.naive_bayes import MultinomialNB\n",
    "import pandas as pd"
   ]
  },
  {
   "cell_type": "code",
   "execution_count": null,
   "metadata": {},
   "outputs": [],
   "source": [
    "# TODO: Add dimensionality reduction to this pipeline?  \n",
    "# http://scikit-learn.org/stable/auto_examples/text/document_classification_20newsgroups.html\n",
    "# http://scikit-learn.org/stable/auto_examples/text/document_clustering.html\n",
    "# https://medium.com/@adi_enasoaie/easy-lsi-pipeline-using-scikit-learn-a073f2484408\n",
    "    \n",
    "clf = Pipeline([\n",
    "    ('tidy', TidySymbols()),\n",
    "    ('vect', CountVectorizer(binary=True, ngram_range = (1,2))),\n",
    "    ('tfidf', TfidfTransformer()),\n",
    "    ('clf', LinearSVC(C=0.784))\n",
    "])"
   ]
  },
  {
   "cell_type": "code",
   "execution_count": null,
   "metadata": {},
   "outputs": [],
   "source": [
    "clf = clf.fit(x_train, y_train)"
   ]
  },
  {
   "cell_type": "code",
   "execution_count": null,
   "metadata": {},
   "outputs": [],
   "source": [
    "from sklearn import metrics\n",
    "y_pred = clf.predict(x_test)"
   ]
  },
  {
   "cell_type": "code",
   "execution_count": null,
   "metadata": {},
   "outputs": [],
   "source": [
    "print(metrics.classification_report(y_test, y_pred, digits=4))\n",
    "\n",
    "tn, fp, fn, tp = metrics.confusion_matrix(y_test, y_pred).ravel()\n",
    "\n",
    "cm = pd.DataFrame(metrics.confusion_matrix(y_test, y_pred))\n",
    "i1 = pd.MultiIndex.from_tuples([(\"y\", 0),(\"y\", 1)])\n",
    "i2 = pd.MultiIndex.from_tuples([(\"pred\", 0),(\"pred\", 1)])\n",
    "cm = cm.set_index(i1)\n",
    "cm.columns = i2\n",
    "cm"
   ]
  },
  {
   "cell_type": "markdown",
   "metadata": {},
   "source": [
    "# Best 2017-08-27\n",
    "```\n",
    "\n",
    "pred\n",
    "0\t1\n",
    "y\t0\t88133\t670\n",
    "1\t450\t5612\n",
    "```"
   ]
  },
  {
   "cell_type": "code",
   "execution_count": null,
   "metadata": {},
   "outputs": [],
   "source": [
    "# Investigate fp fn\n",
    "import pandas as pd\n",
    "pd.options.display.max_colwidth = 10000\n",
    "df = pd.DataFrame({\"y_test\":y_test, \"y_pred\": y_pred, \"x\" : x_test, \"x_c\" : x_test_all[\"category_concat_cat\"]})\n",
    "\n",
    "f1 = df[\"y_test\"] == 0\n",
    "f2 = df[\"y_pred\"] == 1\n",
    "\n",
    "df[f1 & f2].sample(20)"
   ]
  },
  {
   "cell_type": "code",
   "execution_count": null,
   "metadata": {},
   "outputs": [],
   "source": [
    "\n",
    "f1 = df[\"y_test\"] == 1\n",
    "f2 = df[\"y_pred\"] == 0\n",
    "df[f1 & f2].sample(20)\n"
   ]
  },
  {
   "cell_type": "code",
   "execution_count": null,
   "metadata": {},
   "outputs": [],
   "source": []
  },
  {
   "cell_type": "code",
   "execution_count": null,
   "metadata": {},
   "outputs": [],
   "source": [
    "# Understand what's going on a bit more - refit so we can use proba\n",
    "\n",
    "clf = Pipeline([\n",
    "    ('tidy', TidySymbols()),\n",
    "    ('vect', CountVectorizer(ngram_range = (1,2))),\n",
    "    ('tfidf', TfidfTransformer()),\n",
    "    ('clf', CalibratedClassifierCV(LinearSVC(C=0.784), cv=20))\n",
    "])\n",
    "clf = clf.fit(x_train, y_train)\n",
    "print(metrics.classification_report(y_test, y_pred, digits=4))\n",
    "\n",
    "tn, fp, fn, tp = metrics.confusion_matrix(y_test, y_pred).ravel()\n",
    "\n",
    "cm = pd.DataFrame(metrics.confusion_matrix(y_test, y_pred))\n",
    "i1 = pd.MultiIndex.from_tuples([(\"y\", 0),(\"y\", 1)])\n",
    "i2 = pd.MultiIndex.from_tuples([(\"pred\", 0),(\"pred\", 1)])\n",
    "cm = cm.set_index(i1)\n",
    "cm.columns = i2\n",
    "cm"
   ]
  },
  {
   "cell_type": "code",
   "execution_count": null,
   "metadata": {},
   "outputs": [],
   "source": [
    "clf.predict_proba([\"Yellow Dutch Bitcoin 200mg XTC Pills\"])"
   ]
  },
  {
   "cell_type": "code",
   "execution_count": null,
   "metadata": {},
   "outputs": [],
   "source": [
    "newx = [\"25 x Purple DOMINO (2nd press) XTC…\", \"MDMA/ECSTASY/MOLLY- 0.5 Half Gram\",\"ECSTASY PILLS 5000 PIECES ==WARNERBROS\", \"5x 200 - 220MG Orange Tesla's\", \"50x Beige Instagram 200mg MDMA\", \"10 Dutch Mill XTC Red Godness A++ QUALITY 140mg+ mdma\"]\n",
    "clf.predict(newx)"
   ]
  },
  {
   "cell_type": "code",
   "execution_count": null,
   "metadata": {},
   "outputs": [],
   "source": [
    "p = Pipeline(clf.steps[0:1])\n",
    "data = p.fit_transform(newx)\n",
    "df = pd.DataFrame(data)\n",
    "\n",
    "df"
   ]
  },
  {
   "cell_type": "code",
   "execution_count": null,
   "metadata": {},
   "outputs": [],
   "source": []
  },
  {
   "cell_type": "code",
   "execution_count": null,
   "metadata": {},
   "outputs": [],
   "source": []
  }
 ],
 "metadata": {
  "kernelspec": {
   "display_name": "Python 3",
   "language": "python",
   "name": "python3"
  },
  "language_info": {
   "codemirror_mode": {
    "name": "ipython",
    "version": 3
   },
   "file_extension": ".py",
   "mimetype": "text/x-python",
   "name": "python",
   "nbconvert_exporter": "python",
   "pygments_lexer": "ipython3",
   "version": "3.6.1"
  }
 },
 "nbformat": 4,
 "nbformat_minor": 2
}
